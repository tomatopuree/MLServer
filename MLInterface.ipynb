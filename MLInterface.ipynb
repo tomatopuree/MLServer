{
 "cells": [
  {
   "cell_type": "code",
   "execution_count": 11,
   "metadata": {},
   "outputs": [
    {
     "data": {
      "text/plain": [
       "[u'9343690',\n",
       " u'64094459',\n",
       " u'99676733',\n",
       " u'85174194',\n",
       " u'91972566',\n",
       " u'63595801',\n",
       " u'53629360',\n",
       " u'40073165',\n",
       " u'24307230',\n",
       " u'43248052',\n",
       " u'67871823',\n",
       " u'27718000',\n",
       " u'66826541',\n",
       " u'78002439',\n",
       " u'83695829',\n",
       " u'32536434',\n",
       " u'52802832',\n",
       " u'20243673',\n",
       " u'83368197',\n",
       " u'29165511',\n",
       " u'52084237',\n",
       " u'61352581',\n",
       " u'607978',\n",
       " u'66495813',\n",
       " u'526744',\n",
       " u'9794856',\n",
       " u'97085038',\n",
       " u'28032657',\n",
       " u'42252989',\n",
       " u'3824192',\n",
       " u'55686324',\n",
       " u'9261393',\n",
       " u'83200480',\n",
       " u'99868020',\n",
       " u'29380734',\n",
       " u'35757884',\n",
       " u'14839595',\n",
       " u'60116069',\n",
       " u'78457344',\n",
       " u'80304967',\n",
       " u'1894479',\n",
       " u'63985189',\n",
       " u'44304133',\n",
       " u'16813589',\n",
       " u'34961191']"
      ]
     },
     "execution_count": 11,
     "metadata": {},
     "output_type": "execute_result"
    }
   ],
   "source": [
    "import requests\n",
    "r = requests.get('http://depressionmqp.wpi.edu:8080/getids')\n",
    "list_of_ids = r.json()"
   ]
  },
  {
   "cell_type": "code",
   "execution_count": null,
   "metadata": {
    "collapsed": true
   },
   "outputs": [],
   "source": []
  }
 ],
 "metadata": {
  "kernelspec": {
   "display_name": "Python 2",
   "language": "python",
   "name": "python2"
  },
  "language_info": {
   "codemirror_mode": {
    "name": "ipython",
    "version": 2
   },
   "file_extension": ".py",
   "mimetype": "text/x-python",
   "name": "python",
   "nbconvert_exporter": "python",
   "pygments_lexer": "ipython2",
   "version": "2.7.13"
  }
 },
 "nbformat": 4,
 "nbformat_minor": 2
}
