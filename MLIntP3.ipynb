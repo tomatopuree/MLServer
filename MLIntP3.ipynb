{
 "cells": [
  {
   "cell_type": "code",
   "execution_count": 1,
   "metadata": {
    "collapsed": true,
    "scrolled": true
   },
   "outputs": [],
   "source": [
    "from gensim import models\n",
    "\n",
    "# takes a lilbit\n",
    "# model = models.KeyedVectors.load_word2vec_format('./GoogleNews-vectors-negative300.bin', binary=True, limit=500000)  \n",
    "model = models.KeyedVectors.load_word2vec_format('./GoogleNews-vectors-negative300.bin', binary=True, limit=500000)  "
   ]
  },
  {
   "cell_type": "code",
   "execution_count": 40,
   "metadata": {
    "collapsed": true
   },
   "outputs": [],
   "source": [
    "# imports and permanent stuff\n",
    "\n",
    "import requests\n",
    "import json\n",
    "import pickle\n",
    "import os\n",
    "import numpy as np\n",
    "import time\n",
    "\n",
    "list_of_scrape_times = []\n",
    "list_of_types = ['text','log','contact','calender','file','tweets']"
   ]
  },
  {
   "cell_type": "code",
   "execution_count": 8,
   "metadata": {
    "collapsed": true
   },
   "outputs": [],
   "source": [
    "## ELEMENTWISE FEATURIZING FUNCTION DEFINITIONS\n",
    "\n",
    "# takes in element of list_of_jsons and scrape date, spits out text frequency \n",
    "def textFreq(texts, scrapedate):\n",
    "    \n",
    "    a = texts.json()\n",
    "    \n",
    "    seconds_intwo_weeks = 1209600;\n",
    "    \n",
    "    two_weeks_prior = scrapedate - seconds_intwo_weeks\n",
    "    \n",
    "    text_date = 0\n",
    "    saved_index = 0\n",
    "    \n",
    "    for i in range(0,len(a)):\n",
    "        text_date = int(json.loads(a[len(a)-(i+1)])['date'].encode('ascii','ignore'))\n",
    "        if (two_weeks_prior < text_date):\n",
    "            saved_index = len(a) - (i+1)\n",
    "            break\n",
    "    \n",
    "    return float(saved_index+1)/14\n",
    "    \n",
    "    \n",
    "# takes in element of list_of_jsons(resp object) and scrape date, spits out call frequency \n",
    "def callFreq(calls, scrapedate):\n",
    "    \n",
    "    a = calls.json()\n",
    "    \n",
    "    seconds_intwo_weeks = 1209600;\n",
    "    \n",
    "    two_weeks_prior = scrapedate - seconds_intwo_weeks\n",
    "    \n",
    "    call_date = 0\n",
    "    saved_index = 0\n",
    "    \n",
    "    for i in range(0,len(a)):\n",
    "        call_date = int(json.loads(a[len(a)-(i+1)])['date'].encode('ascii','ignore'))\n",
    "        if (two_weeks_prior < call_date):\n",
    "            saved_index = len(a) - (i+1)\n",
    "            break\n",
    "    \n",
    "    return float(saved_index+1)/14"
   ]
  },
  {
   "cell_type": "code",
   "execution_count": 44,
   "metadata": {
    "scrolled": true
   },
   "outputs": [],
   "source": [
    "r = requests.get('http://depressionmqp.wpi.edu:8080/getids')\n",
    "list_of_idtime = r.json()\n",
    "list_of_ids = []\n",
    "list_of_times = []\n",
    "\n",
    "for i in range(0,len(list_of_idtime)):\n",
    "    list_of_ids.append( list_of_idtime[i]['id'].encode('ascii','ignore') )\n",
    "    \n",
    "for i in range(0,len(list_of_idtime)):\n",
    "    list_of_times.append( list_of_idtime[i]['date'] )\n",
    "\n",
    "#id1 = list_of_ids[0].encode('ascii','ignore')\n",
    "\n",
    "number_cols = len(list_of_types)\n",
    "number_rows = len(list_of_ids)\n",
    "list_of_jsons = [[0] * number_cols for i in range(number_rows)]\n",
    "\n",
    "\n",
    "### create directory for this particular scrape\n",
    "timenow  = str(int(time.time())) # for temporal congruency\n",
    "list_of_scrape_times.append(timenow)\n",
    "os.mkdir('./datafor' + timenow)\n",
    "filedir = './datafor' + timenow\n",
    "\n",
    "\n",
    "for i in range(0,number_rows):\n",
    "    for j in range(0,number_cols):\n",
    "        temp = requests.get('http://depressionmqp.wpi.edu:8080/getdata?id=' + str(int(list_of_ids[0])) + '&type=' + list_of_types[j])\n",
    "        \n",
    "        pickle.dump(temp, open( filedir + \"/DP\" + str(int(list_of_ids[i])) +  list_of_types[j] + \".p\", \"wb\" ))\n",
    "        \n",
    "        # loads it into memory. i will not use this for now\n",
    "        # for architectural sanity\n",
    "        # list_of_jsons[i][j] = temp"
   ]
  },
  {
   "cell_type": "code",
   "execution_count": 43,
   "metadata": {},
   "outputs": [
    {
     "data": {
      "text/plain": [
       "[]"
      ]
     },
     "execution_count": 43,
     "metadata": {},
     "output_type": "execute_result"
    }
   ],
   "source": [
    "## DELETE DIRECTORY CELL\n",
    "\n",
    "import shutil\n",
    "\n",
    "def deletdatboi(nombre):\n",
    "    shutil.rmtree('./datafor' + list_of_scrape_times[nombre])\n",
    "\n",
    "#deletdatboi(1)\n",
    "\n",
    "list_of_scrape_times\n"
   ]
  },
  {
   "cell_type": "code",
   "execution_count": 12,
   "metadata": {
    "scrolled": true
   },
   "outputs": [],
   "source": [
    "num_of_people = len(list_of_ids)\n",
    "\n",
    "featureVectorCF = np.zeros((num_of_people,1))\n",
    "featureVectorTF = np.zeros((num_of_people,1))\n",
    "\n",
    "for i in range(0, num_of_people):\n",
    "    \n",
    "    list_of_jsons[i][1]\n",
    "    \n",
    "    a1 = pickle.load( open( filedir + \"/DP\" + str(int(list_of_ids[i])) +  \"log\" + \".p\", \"rb\" )) \n",
    "    a2 = pickle.load( open( filedir + \"/DP\" + str(int(list_of_ids[i])) +  \"text\" + \".p\", \"rb\" )) \n",
    "    \n",
    "    featureVectorCF[i] = callFreq(a1, list_of_times[i])\n",
    "    featureVectorTF[i] = textFreq(a2, list_of_times[i])\n",
    "    \n",
    "featureMatrix = np.hstack((featureVectorCF,featureVectorTF))\n",
    "\n",
    "#featureMatrix"
   ]
  },
  {
   "cell_type": "code",
   "execution_count": 123,
   "metadata": {},
   "outputs": [],
   "source": [
    "## WORD2VEC BB\n",
    "\n",
    "a3 = pickle.load( open( filedir + \"/DP\" + str(int(list_of_ids[0])) +  \"tweets\" + \".p\", \"rb\" )) \n",
    "json.loads(a3.json()[0])['text']\n",
    "\n",
    "# input is tweet, returns vector embedding of entire tweet.\n",
    "# eg: a3.json()[0]\n",
    "def tweetToEmbedding(tweet):\n",
    "    \n",
    "    q = json.loads(tweet)['text'].split()\n",
    "    \n",
    "    sumVector = np.zeros((300,))\n",
    "\n",
    "    for i in range(0,len(q)):\n",
    "        try:\n",
    "            sumVector += model[q[i]]\n",
    "        except KeyError:\n",
    "            pass\n",
    "    \n",
    "    return sumVector\n",
    "\n"
   ]
  },
  {
   "cell_type": "code",
   "execution_count": 124,
   "metadata": {
    "scrolled": true
   },
   "outputs": [
    {
     "data": {
      "text/plain": [
       "array([-0.20605469, -0.12695312,  0.12890625,  0.25390625, -0.14453125,\n",
       "       -0.10986328,  0.125     , -0.03320312, -0.0625    , -0.04272461,\n",
       "       -0.12304688, -0.04907227,  0.06835938,  0.40625   ,  0.06591797,\n",
       "        0.3046875 ,  0.33398438,  0.44140625,  0.05297852,  0.02160645,\n",
       "        0.796875  ,  0.24414062,  0.39453125, -0.17480469,  0.65625   ,\n",
       "        0.00817871, -0.01379395, -0.22558594,  0.07568359, -0.05957031,\n",
       "       -0.19824219, -0.36328125, -0.54296875,  0.24609375,  0.21582031,\n",
       "       -0.17089844,  0.38867188, -0.06176758, -0.19628906,  0.6328125 ,\n",
       "        0.19042969, -0.36328125,  0.16503906,  0.0291748 ,  0.23632812,\n",
       "       -0.09277344, -0.33203125, -0.24023438, -0.003479  ,  0.07177734,\n",
       "       -0.01611328, -0.23339844,  0.1796875 ,  0.17285156,  0.27929688,\n",
       "        0.2734375 ,  0.03686523,  0.24804688,  0.25585938, -0.38085938,\n",
       "       -0.49414062,  0.24316406, -0.48046875,  0.38476562,  0.13671875,\n",
       "        0.01953125,  0.05224609, -0.29492188, -0.30273438,  0.11425781,\n",
       "        0.24902344,  0.10009766, -0.0098877 ,  0.02331543, -0.28515625,\n",
       "       -0.47851562,  0.19824219,  0.09423828,  0.421875  ,  0.80078125,\n",
       "       -0.25390625,  0.3828125 , -0.33007812, -0.4921875 ,  0.07177734,\n",
       "       -0.25      , -0.33398438,  0.02648926,  0.7890625 ,  0.3359375 ,\n",
       "        0.19824219,  0.09863281,  0.26171875,  0.16015625, -0.03637695,\n",
       "       -0.15527344,  0.0625    ,  0.29492188,  0.12158203, -0.12792969,\n",
       "       -0.40039062, -0.15820312, -0.2421875 , -0.11181641, -0.0300293 ,\n",
       "        0.2265625 ,  0.265625  ,  0.1953125 ,  0.12060547,  0.09863281,\n",
       "       -0.07470703, -0.12988281,  0.23632812,  0.20898438,  0.24023438,\n",
       "       -0.10791016,  0.13769531,  0.24902344, -0.01831055,  0.00363159,\n",
       "        0.18359375,  0.03881836, -0.6328125 ,  0.43554688,  0.37304688,\n",
       "       -0.07421875, -0.13867188,  0.13964844,  0.25195312,  0.00379944,\n",
       "       -0.25976562, -0.45507812, -0.23632812, -0.18164062,  0.5859375 ,\n",
       "       -0.29492188,  0.02612305, -0.30273438, -0.08300781,  0.26757812,\n",
       "        0.38671875,  0.4375    , -0.15136719, -0.79296875, -0.13574219,\n",
       "       -0.06982422,  0.26757812, -0.27148438,  0.20605469, -0.62109375,\n",
       "        0.09082031,  0.04663086,  0.546875  , -0.07910156,  0.23632812,\n",
       "        0.33398438,  0.83203125, -0.21289062, -0.34179688, -0.38085938,\n",
       "       -0.29492188, -0.00933838,  0.65625   ,  0.50390625,  0.37304688,\n",
       "       -0.34960938,  0.03076172, -0.01757812, -0.24902344,  0.44335938,\n",
       "        0.25390625,  0.30078125, -0.24707031, -0.10839844, -0.36914062,\n",
       "        0.421875  , -0.13867188,  0.19335938, -0.04492188, -0.20703125,\n",
       "       -0.42578125, -0.00320435,  0.03295898,  0.20800781, -0.3046875 ,\n",
       "       -0.32617188, -0.14746094, -0.04980469, -0.11816406,  0.38867188,\n",
       "        0.10253906,  0.24902344,  0.00598145,  0.05322266, -0.07177734,\n",
       "       -0.27929688,  0.2890625 , -0.34570312,  0.16992188,  0.02856445,\n",
       "       -0.20410156,  0.33203125, -0.26367188, -0.08886719, -0.34765625,\n",
       "       -0.21484375, -0.22363281,  0.33789062, -0.28710938,  0.10302734,\n",
       "        0.33789062,  0.12353516, -0.44140625, -0.49414062,  0.2890625 ,\n",
       "       -0.13476562,  0.29492188, -0.07373047, -0.30273438,  0.12597656,\n",
       "        0.203125  , -0.13085938, -0.5234375 , -0.23730469, -0.12011719,\n",
       "       -0.2734375 , -0.19042969, -0.26367188, -0.22265625,  0.05273438,\n",
       "        0.07470703, -0.515625  , -0.09814453,  0.00854492, -0.01464844,\n",
       "        0.12060547,  0.20507812,  0.08105469, -0.09277344, -0.01928711,\n",
       "        0.43554688, -0.19921875, -0.02075195,  0.47460938, -0.01342773,\n",
       "        0.4296875 ,  0.5625    ,  0.46289062, -0.01092529, -0.14453125,\n",
       "        0.07324219,  0.26171875, -0.10302734,  0.04492188, -0.14257812,\n",
       "       -0.01879883,  0.33007812,  0.12402344, -0.43359375, -0.27929688,\n",
       "        0.03149414, -0.08837891,  0.06787109, -0.19824219, -0.1953125 ,\n",
       "        0.06787109, -0.24609375,  0.13574219, -0.15429688, -0.37109375,\n",
       "       -0.3046875 ,  0.22851562,  0.14746094,  0.08203125,  0.50390625,\n",
       "       -0.09814453, -0.24511719, -0.0480957 , -0.26367188, -0.125     ,\n",
       "       -0.03063965,  0.2265625 , -0.46289062,  0.21582031,  0.00558472,\n",
       "        0.40820312, -0.14941406,  0.32617188,  0.03063965,  0.25585938,\n",
       "       -0.30664062, -0.20996094, -0.25195312, -0.22167969, -0.18261719,\n",
       "       -0.22363281, -0.22167969, -0.203125  , -0.26171875,  0.07177734])"
      ]
     },
     "execution_count": 124,
     "metadata": {},
     "output_type": "execute_result"
    }
   ],
   "source": [
    "tweetToEmbedding(a3.json()[0])"
   ]
  },
  {
   "cell_type": "code",
   "execution_count": 125,
   "metadata": {},
   "outputs": [],
   "source": [
    "q = json.loads(a3.json()[1])['text'].split()\n",
    "#a3.json()[0]"
   ]
  }
 ],
 "metadata": {
  "kernelspec": {
   "display_name": "Python 3",
   "language": "python",
   "name": "python3"
  },
  "language_info": {
   "codemirror_mode": {
    "name": "ipython",
    "version": 3
   },
   "file_extension": ".py",
   "mimetype": "text/x-python",
   "name": "python",
   "nbconvert_exporter": "python",
   "pygments_lexer": "ipython3",
   "version": "3.5.3"
  }
 },
 "nbformat": 4,
 "nbformat_minor": 2
}
