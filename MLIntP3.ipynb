{
 "cells": [
  {
   "cell_type": "code",
   "execution_count": 2,
   "metadata": {
    "collapsed": true,
    "scrolled": true
   },
   "outputs": [],
   "source": [
    "# This is its own cell because it takes a while to load this thing\n",
    "from gensim import models\n",
    "\n",
    "# takes a lilbit\n",
    "# model = models.KeyedVectors.load_word2vec_format('./GoogleNews-vectors-negative300.bin', binary=True, limit=500000)  \n",
    "model = models.KeyedVectors.load_word2vec_format('./GoogleNews-vectors-negative300.bin', binary=True, limit=500000)  "
   ]
  },
  {
   "cell_type": "code",
   "execution_count": 3,
   "metadata": {
    "collapsed": true
   },
   "outputs": [],
   "source": [
    "# imports and permanent stuff\n",
    "\n",
    "import requests\n",
    "import json\n",
    "import pickle\n",
    "import os\n",
    "import numpy as np\n",
    "import time\n",
    "import shutil"
   ]
  },
  {
   "cell_type": "code",
   "execution_count": 161,
   "metadata": {
    "collapsed": true
   },
   "outputs": [],
   "source": [
    "## class Loader\n",
    "\n",
    "class Loader:\n",
    "    def __init__(self):\n",
    "        pass\n",
    "    \n",
    "    filedir = \"\"\n",
    "    list_of_ids = []\n",
    "    list_of_times = []\n",
    "    list_of_types = ['text','log','contact','calender','file','tweets']\n",
    "    \n",
    "    def deletdatboi(self, nombre):\n",
    "        shutil.rmtree('./datafor' + list_of_scrape_times[nombre])\n",
    "    \n",
    "    def downloadAndLabel(self):\n",
    "        \n",
    "        r = requests.get('http://depressionmqp.wpi.edu:8080/getids')\n",
    "        list_of_idtime = r.json()\n",
    "        \n",
    "\n",
    "        for i in range(0,len(list_of_idtime)):\n",
    "            Loader.list_of_ids.append( list_of_idtime[i]['id'].encode('ascii','ignore') )\n",
    "\n",
    "        for i in range(0,len(list_of_idtime)):\n",
    "            Loader.list_of_times.append( list_of_idtime[i]['date'] )\n",
    "\n",
    "        number_cols = len(Loader.list_of_types)\n",
    "        number_rows = len(Loader.list_of_ids)\n",
    "        \n",
    "        # an artifact of the past\n",
    "        # list_of_jsons = [[0] * number_cols for i in range(number_rows)]\n",
    "\n",
    "        \n",
    "        ### create directory for this particular scrape/pull\n",
    "        timenow  = str(int(time.time())) # for temporal congruency\n",
    "        list_of_scrape_times.append(timenow)\n",
    "        os.mkdir('./datafor' + timenow[-3:])\n",
    "        Loader.filedir = './datafor' + timenow[-3:]\n",
    "\n",
    "\n",
    "        for i in range(0,number_rows):\n",
    "            for j in range(0,number_cols):\n",
    "                temp = requests.get('http://depressionmqp.wpi.edu:8080/getdata?id=' + str(int(Loader.list_of_ids[i])) + '&type=' + Loader.list_of_types[j])\n",
    "\n",
    "                pickle.dump(temp, open( Loader.filedir + \"/DP\" + str(int(Loader.list_of_ids[i])) +  Loader.list_of_types[j] + \".p\", \"wb\" ))\n",
    "\n",
    "                # loads it into memory. i will not use this for now\n",
    "                # for sake of architectural sanity\n",
    "                # list_of_jsons[i][j] = temp\n"
   ]
  },
  {
   "cell_type": "code",
   "execution_count": 129,
   "metadata": {
    "collapsed": true
   },
   "outputs": [],
   "source": [
    "## Featurizer featurizes methods that convert json objects of the appropriate type into features\n",
    "\n",
    "class Featurizer:\n",
    "    def __init__(self):\n",
    "        pass\n",
    "        #self.name = name\n",
    "\n",
    "    # takes in element of list_of_jsons and scrape date, spits out text frequency\n",
    "    def dailyTextFreq(self, texts, scrapedate):\n",
    "        \n",
    "        a = texts.json()\n",
    "\n",
    "        seconds_intwo_weeks = 1209600;\n",
    "        \n",
    "        # calculate unix time for two weeks prior\n",
    "        two_weeks_prior = scrapedate - seconds_intwo_weeks\n",
    "\n",
    "        text_date = 0\n",
    "        saved_index = 0\n",
    "\n",
    "        # find the index of the oldest message that is not older than the date \"two weeks prior\"\n",
    "        for i in range(0,len(a)):\n",
    "            text_date = int(json.loads(a[len(a)-(i+1)])['date'].encode('ascii','ignore'))\n",
    "            if (two_weeks_prior < text_date):\n",
    "                saved_index = len(a) - (i+1)\n",
    "                break\n",
    "\n",
    "        # divide by 14 to get daily freq\n",
    "        return float(saved_index+1)/14\n",
    "    \n",
    "\n",
    "    # takes in element of list_of_jsons(resp object) and scrape date, spits out call frequency \n",
    "    def dailyCallFreq(self, calls, scrapedate):\n",
    "\n",
    "        a = calls.json()\n",
    "\n",
    "        seconds_intwo_weeks = 1209600;\n",
    "\n",
    "        two_weeks_prior = scrapedate - seconds_intwo_weeks\n",
    "\n",
    "        call_date = 0\n",
    "        saved_index = 0\n",
    "\n",
    "        # find the index of the oldest call that is not older than the date \"two weeks prior\"\n",
    "        for i in range(0,len(a)):\n",
    "            call_date = int(json.loads(a[len(a)-(i+1)])['date'].encode('ascii','ignore'))\n",
    "            if (two_weeks_prior < call_date):\n",
    "                saved_index = len(a) - (i+1)\n",
    "                break\n",
    "\n",
    "        return float(saved_index+1)/14\n",
    "    \n",
    "    \n",
    "    #input is tweets, return master vector\n",
    "    def embeddingToMastersum(self, tweets):\n",
    "        \n",
    "        masterSum = np.zeros((300,))\n",
    "\n",
    "        # add every word vector into master sum\n",
    "        for i in range(0,10):\n",
    "            try:\n",
    "                masterSum += self.tweetToEmbedding(tweets.json()[i])\n",
    "            except:\n",
    "                pass\n",
    "        \n",
    "        return masterSum\n",
    "\n",
    "    \n",
    "    # input is tweet, returns vector embedding of entire tweet.\n",
    "    # eg: responseobject.json()[0]\n",
    "    def tweetToEmbedding(self, tweet):\n",
    "\n",
    "        q = json.loads(tweet)['text'].split()\n",
    "\n",
    "        sumVector = np.zeros((300,))\n",
    "\n",
    "        # turn every word into embedding for 1 tweet, add all vectors\n",
    "        for i in range(0,len(q)):\n",
    "            try:\n",
    "                sumVector += model[q[i]]\n",
    "            except KeyError:\n",
    "                pass\n",
    "            except IndexError:\n",
    "                pass\n",
    "\n",
    "        return sumVector\n",
    "    \n",
    "    \n",
    "    #input is tweets, return follocount\n",
    "    def followerCount(self, tweets):\n",
    "\n",
    "        followerCount = 0\n",
    "\n",
    "        # get\n",
    "        try:\n",
    "            followerCount = json.loads(tweets.json()[0])['user']['followers_count']\n",
    "        except KeyError:\n",
    "            pass\n",
    "        except IndexError:\n",
    "            pass\n",
    "\n",
    "        return followerCount\n",
    "\n",
    "    #input is tweets, return friends (who user follows)\n",
    "    def followingCount(self, tweets):\n",
    "\n",
    "        followingCount = 0\n",
    "\n",
    "        try:\n",
    "            followingCount = json.loads(tweets.json()[0])['user']['friends_count']\n",
    "        except KeyError:\n",
    "            pass\n",
    "        except IndexError:\n",
    "            pass\n",
    "\n",
    "        return followingCount\n",
    "\n",
    "    #input is tweets, return avg likes per post for the last 2 weeks\n",
    "    def twitterLikeFreq(self, tweets, scrapedate):\n",
    "\n",
    "        a = tweets.json()\n",
    "\n",
    "        seconds_intwo_weeks = 1209600;\n",
    "\n",
    "        two_weeks_prior = scrapedate - seconds_intwo_weeks\n",
    "\n",
    "        tweet_date = 0\n",
    "        saved_index = 0\n",
    "\n",
    "        for i in range(0,len(a)):\n",
    "\n",
    "            utc = json.loads(a[len(a)-(i+1)])['created_at']\n",
    "\n",
    "            tweet_date = int(time.mktime(time.strptime(utc,\"%a %b %d %H:%M:%S +0000 %Y\")))\n",
    "\n",
    "            if (two_weeks_prior < tweet_date):\n",
    "                saved_index = len(a) - (i+1)\n",
    "                break\n",
    "\n",
    "        sum_of_likes = 0\n",
    "\n",
    "        for i in range(0, saved_index):\n",
    "            sum_of_likes += json.loads(tweets.json()[i])['favorite_count']\n",
    "\n",
    "\n",
    "        return sum_of_likes/14\n",
    "\n",
    "    #input is tweets, return avg retweets per post for the last 2 weeks\n",
    "    def twitterRetweetFreq(self, tweets, scrapedate):\n",
    "\n",
    "        a = tweets.json()\n",
    "\n",
    "        seconds_intwo_weeks = 1209600;\n",
    "\n",
    "        two_weeks_prior = scrapedate - seconds_intwo_weeks\n",
    "\n",
    "        tweet_date = 0\n",
    "        saved_index = 0\n",
    "\n",
    "        for i in range(0,len(a)):\n",
    "\n",
    "            utc = json.loads(a[len(a)-(i+1)])['created_at']\n",
    "\n",
    "            tweet_date = int(time.mktime(time.strptime(utc,\"%a %b %d %H:%M:%S +0000 %Y\")))\n",
    "\n",
    "            if (two_weeks_prior < tweet_date):\n",
    "                saved_index = len(a) - (i+1)\n",
    "                break\n",
    "\n",
    "        sum_of_retweets = 0\n",
    "\n",
    "        for i in range(0, saved_index):\n",
    "            sum_of_likes += json.loads(tweets.json()[i])['retweet_count']\n",
    "\n",
    "\n",
    "        return sum_of_retweets/14\n",
    "    \n",
    "    # input is contacts, returns number of contacts\n",
    "    def numOfContacts(self, contacts):\n",
    "        return len(contacts.json())\n",
    "    \n"
   ]
  },
  {
   "cell_type": "code",
   "execution_count": 169,
   "metadata": {},
   "outputs": [],
   "source": [
    "class Generator:\n",
    "\n",
    "    def __init__(self, filedir, list_of_ids):\n",
    "        self.filedir = filedir\n",
    "        self.list_of_ids = list_of_ids\n",
    "    \n",
    "    featureVectorCF = np.zeros((num_of_people,1))\n",
    "    featureVectorTF = np.zeros((num_of_people,1))\n",
    "    featureVectorTW = np.zeros((num_of_people,300))\n",
    "    featureVectorFC = np.zeros((num_of_people,1))\n",
    "    featureVectorFC2 = np.zeros((num_of_people,1))\n",
    "    featureVectorTWL = np.zeros((num_of_people,1))\n",
    "    featureVectorTWRT = np.zeros((num_of_people,1))\n",
    "    featureVectorNC = np.zeros((num_of_people,1))\n",
    "    featureMatrix = None\n",
    "    \n",
    "    f = Featurizer()\n",
    "\n",
    "    def generateMatrix(self):\n",
    "        \n",
    "        num_of_people = len(list_of_ids)\n",
    "\n",
    "        for i in range(0, num_of_people):\n",
    "\n",
    "            #list_of_jsons[i][1]\n",
    "\n",
    "            a1 = pickle.load( open( self.filedir + \"/DP\" + str(int(list_of_ids[i])) +  \"log\" + \".p\", \"rb\" )) \n",
    "            a2 = pickle.load( open( self.filedir + \"/DP\" + str(int(list_of_ids[i])) +  \"text\" + \".p\", \"rb\" )) \n",
    "            a3 = pickle.load( open( self.filedir + \"/DP\" + str(int(list_of_ids[i])) +  \"tweets\" + \".p\", \"rb\" )) \n",
    "            a4 = pickle.load( open( self.filedir + \"/DP\" + str(int(list_of_ids[i])) +  \"contact\" + \".p\", \"rb\" )) \n",
    "\n",
    "\n",
    "            Generator.featureVectorCF[i] = f.dailyCallFreq(a1, list_of_times[i])\n",
    "            Generator.featureVectorTF[i] = f.dailyTextFreq(a2, list_of_times[i])\n",
    "            Generator.featureVectorTW[i] = f.embeddingToMastersum(a3)\n",
    "            Generator.featureVectorFC[i] = f.followerCount(a3)\n",
    "            Generator.featureVectorFC2[i] = f.followingCount(a3)\n",
    "            Generator.featureVectorTWL[i] = f.twitterLikeFreq(a3, list_of_times[i])\n",
    "            Generator.featureVectorTWRT[i] = f.twitterRetweetFreq(a3, list_of_times[i])\n",
    "            Generator.featureVectorNC[i] = f.numOfContacts(a4)\n",
    "            \n",
    "\n",
    "            Generator.featureMatrix = np.hstack((featureVectorCF,featureVectorTF,\n",
    "featureVectorTW, featureVectorFC, featureVectorTWL, featureVectorTWRT))\n"
   ]
  },
  {
   "cell_type": "code",
   "execution_count": 170,
   "metadata": {},
   "outputs": [
    {
     "data": {
      "text/plain": [
       "(53, 305)"
      ]
     },
     "execution_count": 170,
     "metadata": {},
     "output_type": "execute_result"
    }
   ],
   "source": [
    "# Everything I coded in one cell!\n",
    "\n",
    "#l = Loader()\n",
    "#l.downloadAndLabel()\n",
    "\n",
    "g = Generator(l.filedir, l.list_of_ids)\n",
    "g.generateMatrix()\n",
    "g.featureMatrix.shape"
   ]
  },
  {
   "cell_type": "code",
   "execution_count": 99,
   "metadata": {},
   "outputs": [
    {
     "data": {
      "text/plain": [
       "2"
      ]
     },
     "execution_count": 99,
     "metadata": {},
     "output_type": "execute_result"
    }
   ],
   "source": [
    "## WASTELAND OF PLAY CELLS BELOW\n",
    "\n",
    "\n",
    "filedir = './datafor' + '1511239205'\n",
    "\n",
    "## access example\n",
    "a3 = pickle.load( open( filedir + \"/DP\" + str(int(list_of_ids[2])) +  \"contact\" + \".p\", \"rb\" )) \n",
    "# json.loads(a3.json()[0])\n",
    "# a3.json()\n",
    "list_of_ids[0]\n",
    "\n",
    "len(a3.json())\n",
    "\n",
    "\n",
    "\n"
   ]
  },
  {
   "cell_type": "code",
   "execution_count": 143,
   "metadata": {
    "scrolled": true
   },
   "outputs": [
    {
     "data": {
      "text/plain": [
       "(1, 300)"
      ]
     },
     "execution_count": 143,
     "metadata": {},
     "output_type": "execute_result"
    }
   ],
   "source": [
    "w = embeddingToMastersum(a3)\n",
    "w.reshape((-1, 1)).T.shape\n"
   ]
  },
  {
   "cell_type": "code",
   "execution_count": 156,
   "metadata": {
    "scrolled": true
   },
   "outputs": [
    {
     "data": {
      "text/plain": [
       "'1511765588'"
      ]
     },
     "execution_count": 156,
     "metadata": {},
     "output_type": "execute_result"
    }
   ],
   "source": [
    "timenow  = str(int(time.time())) # for temporal congruency\n",
    "timenow1 = timenow\n",
    "timenow1"
   ]
  },
  {
   "cell_type": "code",
   "execution_count": 159,
   "metadata": {},
   "outputs": [
    {
     "data": {
      "text/plain": [
       "'588'"
      ]
     },
     "execution_count": 159,
     "metadata": {},
     "output_type": "execute_result"
    }
   ],
   "source": [
    "timenow[-3:]"
   ]
  }
 ],
 "metadata": {
  "kernelspec": {
   "display_name": "Python 3",
   "language": "python",
   "name": "python3"
  },
  "language_info": {
   "codemirror_mode": {
    "name": "ipython",
    "version": 3
   },
   "file_extension": ".py",
   "mimetype": "text/x-python",
   "name": "python",
   "nbconvert_exporter": "python",
   "pygments_lexer": "ipython3",
   "version": "3.5.3"
  }
 },
 "nbformat": 4,
 "nbformat_minor": 2
}
