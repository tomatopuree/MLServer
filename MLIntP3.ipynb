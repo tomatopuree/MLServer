{
 "cells": [
  {
   "cell_type": "code",
   "execution_count": 1,
   "metadata": {
    "collapsed": true,
    "scrolled": true
   },
   "outputs": [],
   "source": [
    "from gensim import models\n",
    "\n",
    "# takes a lilbit\n",
    "# model = models.KeyedVectors.load_word2vec_format('./GoogleNews-vectors-negative300.bin', binary=True, limit=500000)  \n",
    "model = models.KeyedVectors.load_word2vec_format('./GoogleNews-vectors-negative300.bin', binary=True, limit=500000)  "
   ]
  },
  {
   "cell_type": "code",
   "execution_count": 40,
   "metadata": {
    "collapsed": true
   },
   "outputs": [],
   "source": [
    "# imports and permanent stuff\n",
    "\n",
    "import requests\n",
    "import json\n",
    "import pickle\n",
    "import os\n",
    "import numpy as np\n",
    "import time\n",
    "\n",
    "list_of_scrape_times = []\n",
    "list_of_types = ['text','log','contact','calender','file','tweets']"
   ]
  },
  {
   "cell_type": "code",
   "execution_count": 8,
   "metadata": {
    "collapsed": true
   },
   "outputs": [],
   "source": [
    "## ELEMENTWISE FEATURIZING FUNCTION DEFINITIONS\n",
    "\n",
    "# takes in element of list_of_jsons and scrape date, spits out text frequency \n",
    "def textFreq(texts, scrapedate):\n",
    "    \n",
    "    a = texts.json()\n",
    "    \n",
    "    seconds_intwo_weeks = 1209600;\n",
    "    \n",
    "    two_weeks_prior = scrapedate - seconds_intwo_weeks\n",
    "    \n",
    "    text_date = 0\n",
    "    saved_index = 0\n",
    "    \n",
    "    for i in range(0,len(a)):\n",
    "        text_date = int(json.loads(a[len(a)-(i+1)])['date'].encode('ascii','ignore'))\n",
    "        if (two_weeks_prior < text_date):\n",
    "            saved_index = len(a) - (i+1)\n",
    "            break\n",
    "    \n",
    "    return float(saved_index+1)/14\n",
    "    \n",
    "    \n",
    "# takes in element of list_of_jsons(resp object) and scrape date, spits out call frequency \n",
    "def callFreq(calls, scrapedate):\n",
    "    \n",
    "    a = calls.json()\n",
    "    \n",
    "    seconds_intwo_weeks = 1209600;\n",
    "    \n",
    "    two_weeks_prior = scrapedate - seconds_intwo_weeks\n",
    "    \n",
    "    call_date = 0\n",
    "    saved_index = 0\n",
    "    \n",
    "    for i in range(0,len(a)):\n",
    "        call_date = int(json.loads(a[len(a)-(i+1)])['date'].encode('ascii','ignore'))\n",
    "        if (two_weeks_prior < call_date):\n",
    "            saved_index = len(a) - (i+1)\n",
    "            break\n",
    "    \n",
    "    return float(saved_index+1)/14"
   ]
  },
  {
   "cell_type": "code",
   "execution_count": 44,
   "metadata": {
    "scrolled": true
   },
   "outputs": [],
   "source": [
    "r = requests.get('http://depressionmqp.wpi.edu:8080/getids')\n",
    "list_of_idtime = r.json()\n",
    "list_of_ids = []\n",
    "list_of_times = []\n",
    "\n",
    "for i in range(0,len(list_of_idtime)):\n",
    "    list_of_ids.append( list_of_idtime[i]['id'].encode('ascii','ignore') )\n",
    "    \n",
    "for i in range(0,len(list_of_idtime)):\n",
    "    list_of_times.append( list_of_idtime[i]['date'] )\n",
    "\n",
    "#id1 = list_of_ids[0].encode('ascii','ignore')\n",
    "\n",
    "number_cols = len(list_of_types)\n",
    "number_rows = len(list_of_ids)\n",
    "list_of_jsons = [[0] * number_cols for i in range(number_rows)]\n",
    "\n",
    "\n",
    "### create directory for this particular scrape\n",
    "timenow  = str(int(time.time())) # for temporal congruency\n",
    "list_of_scrape_times.append(timenow)\n",
    "os.mkdir('./datafor' + timenow)\n",
    "filedir = './datafor' + timenow\n",
    "\n",
    "\n",
    "for i in range(0,number_rows):\n",
    "    for j in range(0,number_cols):\n",
    "        temp = requests.get('http://depressionmqp.wpi.edu:8080/getdata?id=' + str(int(list_of_ids[0])) + '&type=' + list_of_types[j])\n",
    "        \n",
    "        pickle.dump(temp, open( filedir + \"/DP\" + str(int(list_of_ids[i])) +  list_of_types[j] + \".p\", \"wb\" ))\n",
    "        \n",
    "        # loads it into memory. i will not use this for now\n",
    "        # for architectural sanity\n",
    "        # list_of_jsons[i][j] = temp"
   ]
  },
  {
   "cell_type": "code",
   "execution_count": 43,
   "metadata": {},
   "outputs": [
    {
     "data": {
      "text/plain": [
       "[]"
      ]
     },
     "execution_count": 43,
     "metadata": {},
     "output_type": "execute_result"
    }
   ],
   "source": [
    "## DELETE DIRECTORY CELL\n",
    "\n",
    "import shutil\n",
    "\n",
    "def deletdatboi(nombre):\n",
    "    shutil.rmtree('./datafor' + list_of_scrape_times[nombre])\n",
    "\n",
    "#deletdatboi(1)\n",
    "\n",
    "list_of_scrape_times\n"
   ]
  },
  {
   "cell_type": "code",
   "execution_count": 12,
   "metadata": {
    "scrolled": true
   },
   "outputs": [],
   "source": [
    "num_of_people = len(list_of_ids)\n",
    "\n",
    "featureVectorCF = np.zeros((num_of_people,1))\n",
    "featureVectorTF = np.zeros((num_of_people,1))\n",
    "featureVectorTW = np.zeros((num_of_people,300))\n",
    "\n",
    "\n",
    "for i in range(0, num_of_people):\n",
    "    \n",
    "    list_of_jsons[i][1]\n",
    "    \n",
    "    a1 = pickle.load( open( filedir + \"/DP\" + str(int(list_of_ids[i])) +  \"log\" + \".p\", \"rb\" )) \n",
    "    a2 = pickle.load( open( filedir + \"/DP\" + str(int(list_of_ids[i])) +  \"text\" + \".p\", \"rb\" )) \n",
    "    a3 = pickle.load( open( filedir + \"/DP\" + str(int(list_of_ids[i])) +  \"tweets\" + \".p\", \"rb\" )) \n",
    "\n",
    "    \n",
    "    featureVectorCF[i] = callFreq(a1, list_of_times[i])\n",
    "    featureVectorTF[i] = textFreq(a2, list_of_times[i])\n",
    "    featureVectorTW[i] = \n",
    "\n",
    "    \n",
    "featureMatrix = np.hstack((featureVectorCF,featureVectorTF))\n",
    "\n",
    "#featureMatrix"
   ]
  },
  {
   "cell_type": "code",
   "execution_count": 126,
   "metadata": {},
   "outputs": [],
   "source": [
    "## WORD2VEC BB\n",
    "\n",
    "a3 = pickle.load( open( filedir + \"/DP\" + str(int(list_of_ids[0])) +  \"tweets\" + \".p\", \"rb\" )) \n",
    "json.loads(a3.json()[0])['text']\n",
    "\n",
    "# input is tweet, returns vector embedding of entire tweet.\n",
    "# eg: a3.json()[0]\n",
    "def tweetToEmbedding(tweet):\n",
    "    \n",
    "    q = json.loads(tweet)['text'].split()\n",
    "    \n",
    "    sumVector = np.zeros((300,))\n",
    "\n",
    "    for i in range(0,len(q)):\n",
    "        try:\n",
    "            sumVector += model[q[i]]\n",
    "        except KeyError:\n",
    "            pass\n",
    "    \n",
    "    return sumVector\n",
    "\n",
    "\n",
    "def embeddingToMastersum(tweets):\n",
    "    \n",
    "    masterSum = np.zeros((300,))\n",
    "    \n",
    "    for i in range(0,10):\n",
    "        try:\n",
    "            masterSum += tweetToEmbedding(tweets.json()[i])\n",
    "        except KeyError:\n",
    "            pass\n",
    "\n",
    "    return masterSum\n"
   ]
  },
  {
   "cell_type": "code",
   "execution_count": 143,
   "metadata": {
    "scrolled": true
   },
   "outputs": [
    {
     "data": {
      "text/plain": [
       "(1, 300)"
      ]
     },
     "execution_count": 143,
     "metadata": {},
     "output_type": "execute_result"
    }
   ],
   "source": [
    "w = embeddingToMastersum(a3)\n",
    "w.reshape((-1, 1)).T.shape\n"
   ]
  },
  {
   "cell_type": "code",
   "execution_count": 125,
   "metadata": {},
   "outputs": [],
   "source": [
    "q = json.loads(a3.json()[1])['text'].split()\n",
    "#a3.json()[0]"
   ]
  }
 ],
 "metadata": {
  "kernelspec": {
   "display_name": "Python 3",
   "language": "python",
   "name": "python3"
  },
  "language_info": {
   "codemirror_mode": {
    "name": "ipython",
    "version": 3
   },
   "file_extension": ".py",
   "mimetype": "text/x-python",
   "name": "python",
   "nbconvert_exporter": "python",
   "pygments_lexer": "ipython3",
   "version": "3.5.3"
  }
 },
 "nbformat": 4,
 "nbformat_minor": 2
}
