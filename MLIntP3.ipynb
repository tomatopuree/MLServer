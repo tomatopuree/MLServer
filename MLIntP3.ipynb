{
 "cells": [
  {
   "cell_type": "code",
   "execution_count": 14,
   "metadata": {
    "scrolled": false
   },
   "outputs": [
    {
     "ename": "MemoryError",
     "evalue": "",
     "output_type": "error",
     "traceback": [
      "\u001b[0;31m---------------------------------------------------------------------------\u001b[0m",
      "\u001b[0;31mMemoryError\u001b[0m                               Traceback (most recent call last)",
      "\u001b[0;32m<ipython-input-14-a2d7b5ee1384>\u001b[0m in \u001b[0;36m<module>\u001b[0;34m()\u001b[0m\n\u001b[1;32m      1\u001b[0m \u001b[0;32mimport\u001b[0m \u001b[0mgensim\u001b[0m\u001b[0;34m\u001b[0m\u001b[0m\n\u001b[0;32m----> 2\u001b[0;31m \u001b[0mmodel\u001b[0m \u001b[0;34m=\u001b[0m \u001b[0mgensim\u001b[0m\u001b[0;34m.\u001b[0m\u001b[0mmodels\u001b[0m\u001b[0;34m.\u001b[0m\u001b[0mKeyedVectors\u001b[0m\u001b[0;34m.\u001b[0m\u001b[0mload_word2vec_format\u001b[0m\u001b[0;34m(\u001b[0m\u001b[0;34m'./GoogleNews-vectors-negative300.bin'\u001b[0m\u001b[0;34m,\u001b[0m \u001b[0mbinary\u001b[0m\u001b[0;34m=\u001b[0m\u001b[0;32mTrue\u001b[0m\u001b[0;34m)\u001b[0m\u001b[0;34m\u001b[0m\u001b[0m\n\u001b[0m",
      "\u001b[0;32m~/.local/lib/python3.5/site-packages/gensim/models/keyedvectors.py\u001b[0m in \u001b[0;36mload_word2vec_format\u001b[0;34m(cls, fname, fvocab, binary, encoding, unicode_errors, limit, datatype)\u001b[0m\n\u001b[1;32m    207\u001b[0m             \u001b[0mresult\u001b[0m \u001b[0;34m=\u001b[0m \u001b[0mcls\u001b[0m\u001b[0;34m(\u001b[0m\u001b[0;34m)\u001b[0m\u001b[0;34m\u001b[0m\u001b[0m\n\u001b[1;32m    208\u001b[0m             \u001b[0mresult\u001b[0m\u001b[0;34m.\u001b[0m\u001b[0mvector_size\u001b[0m \u001b[0;34m=\u001b[0m \u001b[0mvector_size\u001b[0m\u001b[0;34m\u001b[0m\u001b[0m\n\u001b[0;32m--> 209\u001b[0;31m             \u001b[0mresult\u001b[0m\u001b[0;34m.\u001b[0m\u001b[0msyn0\u001b[0m \u001b[0;34m=\u001b[0m \u001b[0mzeros\u001b[0m\u001b[0;34m(\u001b[0m\u001b[0;34m(\u001b[0m\u001b[0mvocab_size\u001b[0m\u001b[0;34m,\u001b[0m \u001b[0mvector_size\u001b[0m\u001b[0;34m)\u001b[0m\u001b[0;34m,\u001b[0m \u001b[0mdtype\u001b[0m\u001b[0;34m=\u001b[0m\u001b[0mdatatype\u001b[0m\u001b[0;34m)\u001b[0m\u001b[0;34m\u001b[0m\u001b[0m\n\u001b[0m\u001b[1;32m    210\u001b[0m \u001b[0;34m\u001b[0m\u001b[0m\n\u001b[1;32m    211\u001b[0m             \u001b[0;32mdef\u001b[0m \u001b[0madd_word\u001b[0m\u001b[0;34m(\u001b[0m\u001b[0mword\u001b[0m\u001b[0;34m,\u001b[0m \u001b[0mweights\u001b[0m\u001b[0;34m)\u001b[0m\u001b[0;34m:\u001b[0m\u001b[0;34m\u001b[0m\u001b[0m\n",
      "\u001b[0;31mMemoryError\u001b[0m: "
     ]
    }
   ],
   "source": [
    "import gensim\n",
    "model = gensim.models.KeyedVectors.load_word2vec_format('./GoogleNews-vectors-negative300.bin', binary=True)  "
   ]
  },
  {
   "cell_type": "code",
   "execution_count": 145,
   "metadata": {
    "collapsed": true
   },
   "outputs": [],
   "source": [
    "# imports and permanent stuff\n",
    "\n",
    "import requests\n",
    "import json\n",
    "import pickle\n",
    "import os\n",
    "import numpy as np\n",
    "\n",
    "list_of_scrape_times = []\n",
    "list_of_types = ['text','log','contact','calender','file','tweet']"
   ]
  },
  {
   "cell_type": "code",
   "execution_count": null,
   "metadata": {
    "collapsed": true
   },
   "outputs": [],
   "source": [
    "## ELEMENTWISE FEATURIZING FUNCTION DEFINITIONS\n",
    "\n",
    "# takes in element of list_of_jsons and scrape date, spits out text frequency \n",
    "def textFreq(texts, scrapedate):\n",
    "    \n",
    "    a = texts.json()\n",
    "    \n",
    "    seconds_intwo_weeks = 1209600;\n",
    "    \n",
    "    two_weeks_prior = scrapedate - seconds_intwo_weeks\n",
    "    \n",
    "    text_date = 0\n",
    "    saved_index = 0\n",
    "    \n",
    "    for i in range(0,len(a)):\n",
    "        text_date = int(json.loads(a[len(a)-(i+1)])['date'].encode('ascii','ignore'))\n",
    "        if (two_weeks_prior < text_date):\n",
    "            saved_index = len(a) - (i+1)\n",
    "            break\n",
    "    \n",
    "    return float(saved_index+1)/14\n",
    "    \n",
    "    \n",
    "# takes in element of list_of_jsons(resp object) and scrape date, spits out call frequency \n",
    "def callFreq(calls, scrapedate):\n",
    "    \n",
    "    a = calls.json()\n",
    "    \n",
    "    seconds_intwo_weeks = 1209600;\n",
    "    \n",
    "    two_weeks_prior = scrapedate - seconds_intwo_weeks\n",
    "    \n",
    "    call_date = 0\n",
    "    saved_index = 0\n",
    "    \n",
    "    for i in range(0,len(a)):\n",
    "        call_date = int(json.loads(a[len(a)-(i+1)])['date'].encode('ascii','ignore'))\n",
    "        if (two_weeks_prior < call_date):\n",
    "            saved_index = len(a) - (i+1)\n",
    "            break\n",
    "    \n",
    "    return float(saved_index+1)/14"
   ]
  },
  {
   "cell_type": "code",
   "execution_count": 152,
   "metadata": {
    "scrolled": true
   },
   "outputs": [],
   "source": [
    "r = requests.get('http://depressionmqp.wpi.edu:8080/getids')\n",
    "list_of_idtime = r.json()\n",
    "list_of_ids = []\n",
    "list_of_times = []\n",
    "\n",
    "for i in range(0,len(list_of_idtime)):\n",
    "    list_of_ids.append( list_of_idtime[i]['id'].encode('ascii','ignore') )\n",
    "    \n",
    "for i in range(0,len(list_of_idtime)):\n",
    "    list_of_times.append( list_of_idtime[i]['date'] )\n",
    "\n",
    "#id1 = list_of_ids[0].encode('ascii','ignore')\n",
    "\n",
    "number_cols = len(list_of_types)\n",
    "number_rows = len(list_of_ids)\n",
    "list_of_jsons = [[0] * number_cols for i in range(number_rows)]\n",
    "\n",
    "\n",
    "### create directory for this particular scrape\n",
    "timenow  = str(int(time.time())) # for temporal congruency\n",
    "list_of_scrape_times.append(timenow)\n",
    "os.mkdir('./datafor' + timenow)\n",
    "filedir = './datafor' + timenow\n",
    "\n",
    "\n",
    "for i in range(0,number_rows):\n",
    "    for j in range(0,number_cols):\n",
    "        temp = requests.get('http://depressionmqp.wpi.edu:8080/getdata?id=' + str(int(list_of_ids[0])) + '&type=' + list_of_types[j])\n",
    "        \n",
    "        pickle.dump(temp, open( filedir + \"/DP\" + str(int(list_of_ids[i])) +  list_of_types[j] + \".p\", \"wb\" ))\n",
    "        \n",
    "        # loads it into memory. i will not use this for now\n",
    "        # for architectural sanity\n",
    "        # list_of_jsons[i][j] = temp\n"
   ]
  },
  {
   "cell_type": "code",
   "execution_count": 102,
   "metadata": {},
   "outputs": [],
   "source": [
    "import pickle\n",
    "\n",
    "\n",
    "pickle.dump(list_of_jsons[0][0], open(\"./pickles/savde.p\", \"wb\" ))"
   ]
  },
  {
   "cell_type": "code",
   "execution_count": 103,
   "metadata": {
    "scrolled": true
   },
   "outputs": [
    {
     "data": {
      "text/plain": [
       "<Response [200]>"
      ]
     },
     "execution_count": 103,
     "metadata": {},
     "output_type": "execute_result"
    }
   ],
   "source": [
    "\n",
    "a = pickle.load( open( \"./\" + filedir + \"/DP\" + str(int(list_of_ids[i])) +  list_of_types[j] + \".p\", \"wb\" )) )\n",
    "a"
   ]
  },
  {
   "cell_type": "code",
   "execution_count": 153,
   "metadata": {},
   "outputs": [
    {
     "data": {
      "text/plain": [
       "['1511234681']"
      ]
     },
     "execution_count": 153,
     "metadata": {},
     "output_type": "execute_result"
    }
   ],
   "source": [
    "## DELETE DIRECTORY CELL\n",
    "\n",
    "import shutil\n",
    "\n",
    "def deletdatboi(nombre):\n",
    "    shutil.rmtree('./datafor' + list_of_scrape_times[nombre])\n",
    "\n",
    "#deletdatboi(0):\n",
    "\n",
    "list_of_scrape_times\n",
    "    "
   ]
  },
  {
   "cell_type": "code",
   "execution_count": 155,
   "metadata": {},
   "outputs": [
    {
     "ename": "FileNotFoundError",
     "evalue": "[Errno 2] No such file or directory: './datafor1511234681/DP41282991call.p'",
     "output_type": "error",
     "traceback": [
      "\u001b[0;31m---------------------------------------------------------------\u001b[0m",
      "\u001b[0;31mFileNotFoundError\u001b[0m             Traceback (most recent call last)",
      "\u001b[0;32m<ipython-input-155-229c1e68fe42>\u001b[0m in \u001b[0;36m<module>\u001b[0;34m()\u001b[0m\n\u001b[1;32m      8\u001b[0m     \u001b[0mlist_of_jsons\u001b[0m\u001b[0;34m[\u001b[0m\u001b[0mi\u001b[0m\u001b[0;34m]\u001b[0m\u001b[0;34m[\u001b[0m\u001b[0;36m1\u001b[0m\u001b[0;34m]\u001b[0m\u001b[0;34m\u001b[0m\u001b[0m\n\u001b[1;32m      9\u001b[0m \u001b[0;34m\u001b[0m\u001b[0m\n\u001b[0;32m---> 10\u001b[0;31m     \u001b[0ma1\u001b[0m \u001b[0;34m=\u001b[0m \u001b[0mpickle\u001b[0m\u001b[0;34m.\u001b[0m\u001b[0mload\u001b[0m\u001b[0;34m(\u001b[0m \u001b[0mopen\u001b[0m\u001b[0;34m(\u001b[0m \u001b[0mfiledir\u001b[0m \u001b[0;34m+\u001b[0m \u001b[0;34m\"/DP\"\u001b[0m \u001b[0;34m+\u001b[0m \u001b[0mstr\u001b[0m\u001b[0;34m(\u001b[0m\u001b[0mint\u001b[0m\u001b[0;34m(\u001b[0m\u001b[0mlist_of_ids\u001b[0m\u001b[0;34m[\u001b[0m\u001b[0mi\u001b[0m\u001b[0;34m]\u001b[0m\u001b[0;34m)\u001b[0m\u001b[0;34m)\u001b[0m \u001b[0;34m+\u001b[0m  \u001b[0;34m\"call\"\u001b[0m \u001b[0;34m+\u001b[0m \u001b[0;34m\".p\"\u001b[0m\u001b[0;34m,\u001b[0m \u001b[0;34m\"rb\"\u001b[0m \u001b[0;34m)\u001b[0m\u001b[0;34m)\u001b[0m\u001b[0;34m\u001b[0m\u001b[0m\n\u001b[0m\u001b[1;32m     11\u001b[0m     \u001b[0ma2\u001b[0m \u001b[0;34m=\u001b[0m \u001b[0mpickle\u001b[0m\u001b[0;34m.\u001b[0m\u001b[0mload\u001b[0m\u001b[0;34m(\u001b[0m \u001b[0mopen\u001b[0m\u001b[0;34m(\u001b[0m \u001b[0mfiledir\u001b[0m \u001b[0;34m+\u001b[0m \u001b[0;34m\"/DP\"\u001b[0m \u001b[0;34m+\u001b[0m \u001b[0mstr\u001b[0m\u001b[0;34m(\u001b[0m\u001b[0mint\u001b[0m\u001b[0;34m(\u001b[0m\u001b[0mlist_of_ids\u001b[0m\u001b[0;34m[\u001b[0m\u001b[0mi\u001b[0m\u001b[0;34m]\u001b[0m\u001b[0;34m)\u001b[0m\u001b[0;34m)\u001b[0m \u001b[0;34m+\u001b[0m  \u001b[0;34m\"text\"\u001b[0m \u001b[0;34m+\u001b[0m \u001b[0;34m\".p\"\u001b[0m\u001b[0;34m,\u001b[0m \u001b[0;34m\"rb\"\u001b[0m \u001b[0;34m)\u001b[0m\u001b[0;34m)\u001b[0m\u001b[0;34m\u001b[0m\u001b[0m\n\u001b[1;32m     12\u001b[0m \u001b[0;34m\u001b[0m\u001b[0m\n",
      "\u001b[0;31mFileNotFoundError\u001b[0m: [Errno 2] No such file or directory: './datafor1511234681/DP41282991call.p'"
     ]
    }
   ],
   "source": [
    "num_of_people = len(list_of_ids)\n",
    "\n",
    "featureVectorCF = np.zeros((num_of_people,1))\n",
    "featureVectorTF = np.zeros((num_of_people,1))\n",
    "\n",
    "for i in range(0, num_of_people):\n",
    "    \n",
    "    list_of_jsons[i][1]\n",
    "    \n",
    "    a1 = pickle.load( open( filedir + \"/DP\" + str(int(list_of_ids[i])) +  \"call\" + \".p\", \"rb\" )) \n",
    "    a2 = pickle.load( open( filedir + \"/DP\" + str(int(list_of_ids[i])) +  \"text\" + \".p\", \"rb\" )) \n",
    "    \n",
    "    featureVectorCF[i] = callFreq(a1, list_of_times[i])\n",
    "    featureVectorTF[i] = textFreq(a2, list_of_times[i])\n",
    "    \n",
    "featureMatrix = np.hstack((featureVectorCF,featureVectorTF))\n",
    "\n",
    "featureMatrix"
   ]
  },
  {
   "cell_type": "code",
   "execution_count": 156,
   "metadata": {},
   "outputs": [
    {
     "data": {
      "text/plain": [
       "[b'41282991',\n",
       " b'89978936',\n",
       " b'19024643',\n",
       " b'11830692',\n",
       " b'2644286',\n",
       " b'53340266',\n",
       " b'23612234',\n",
       " b'29122697',\n",
       " b'11852603',\n",
       " b'79763950',\n",
       " b'91010389',\n",
       " b'46381652',\n",
       " b'97074081',\n",
       " b'53590856',\n",
       " b'46389451',\n",
       " b'19428134',\n",
       " b'89579199',\n",
       " b'13843426',\n",
       " b'96065766',\n",
       " b'51399494',\n",
       " b'54562627',\n",
       " b'95484129',\n",
       " b'70893036',\n",
       " b'15050333',\n",
       " b'66381904',\n",
       " b'68642306',\n",
       " b'27438689',\n",
       " b'32416791',\n",
       " b'63909800',\n",
       " b'77121236',\n",
       " b'1995377',\n",
       " b'43259809',\n",
       " b'35459982',\n",
       " b'61671955',\n",
       " b'45958176',\n",
       " b'38747158',\n",
       " b'14618075',\n",
       " b'71756072',\n",
       " b'64367213',\n",
       " b'41423254',\n",
       " b'28149028']"
      ]
     },
     "execution_count": 156,
     "metadata": {},
     "output_type": "execute_result"
    }
   ],
   "source": [
    "#filedir\n",
    "list_of_ids"
   ]
  }
 ],
 "metadata": {
  "kernelspec": {
   "display_name": "Python 3",
   "language": "python",
   "name": "python3"
  },
  "language_info": {
   "codemirror_mode": {
    "name": "ipython",
    "version": 3
   },
   "file_extension": ".py",
   "mimetype": "text/x-python",
   "name": "python",
   "nbconvert_exporter": "python",
   "pygments_lexer": "ipython3",
   "version": "3.5.3"
  }
 },
 "nbformat": 4,
 "nbformat_minor": 2
}
